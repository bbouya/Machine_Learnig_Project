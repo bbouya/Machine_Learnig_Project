{
 "cells": [
  {
   "cell_type": "code",
   "execution_count": 1,
   "metadata": {},
   "outputs": [],
   "source": [
    "# Importation of library\n",
    "import numpy as np\n",
    "import pandas as np\n",
    "from sklearn import preprocessing\n",
    "from sklearn.model_selection import train_test_split\n",
    "from sklearn.linear_model import LinearRegression"
   ]
  },
  {
   "cell_type": "code",
   "execution_count": 2,
   "metadata": {},
   "outputs": [],
   "source": [
    "# Creation of function to prepare our dataset\n",
    "def prepare_date(df, forcast_col, forcast_out, test_size):\n",
    "    label = df[forcast_col].shift(-forcast_out) # Creation new column called label with the last 5 rows nan\n",
    "    X = np.array(df[[forcast_col]]) # Creation the feature array\n",
    "    X = preprocessing.scale(X) # Processing the feature array\n",
    "    X_lately = X[-forcast_out] # Creating the column i want to use later in the predicting method\n",
    "    X = X[:-forcast_out] # X that will contain the training and testing \n",
    "    label.dropna(inplace = True) # Dropping na values\n",
    "    y = np.array(label) # Assigning Y\n",
    "    X_train, X_test, Y_train, Y_test = train_test_split(X, y, test_size=test_size, random_state=0) #cross validation\n",
    "\n",
    "    response = [X_train,X_test , Y_train, Y_test , X_lately]\n",
    "    return response"
   ]
  },
  {
   "cell_type": "markdown",
   "metadata": {},
   "source": [
    "### You can easily understand the above function as I have narrated the functionning of every line step by step, now the next thing to do is reading the data"
   ]
  },
  {
   "cell_type": "code",
   "execution_count": null,
   "metadata": {},
   "outputs": [],
   "source": []
  }
 ],
 "metadata": {
  "kernelspec": {
   "display_name": "Python 3.7.11 ('base')",
   "language": "python",
   "name": "python3"
  },
  "language_info": {
   "codemirror_mode": {
    "name": "ipython",
    "version": 3
   },
   "file_extension": ".py",
   "mimetype": "text/x-python",
   "name": "python",
   "nbconvert_exporter": "python",
   "pygments_lexer": "ipython3",
   "version": "3.7.11"
  },
  "orig_nbformat": 4,
  "vscode": {
   "interpreter": {
    "hash": "94dc46af9b17fe292079f93718a975e6c4205e7f5d17a1a04dafe45744521aba"
   }
  }
 },
 "nbformat": 4,
 "nbformat_minor": 2
}
